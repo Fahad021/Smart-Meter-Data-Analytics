{
 "cells": [
  {
   "cell_type": "code",
   "execution_count": 1,
   "metadata": {},
   "outputs": [
    {
     "name": "stderr",
     "output_type": "stream",
     "text": [
      "Using TensorFlow backend.\n"
     ]
    }
   ],
   "source": [
    "# univariate multi-step encoder-decoder lstm for the power usage dataset\n",
    "from math import sqrt\n",
    "from numpy import split\n",
    "from numpy import array\n",
    "from pandas import read_csv\n",
    "from sklearn.metrics import mean_squared_error\n",
    "from matplotlib import pyplot\n",
    "from keras.models import Sequential\n",
    "from keras.layers import Dense\n",
    "from keras.layers import LSTM\n",
    "from keras.layers import RepeatVector\n",
    "from keras.layers import TimeDistributed\n",
    "\n",
    "from keras import Model, layers\n",
    "from keras.models import load_model, model_from_json\n"
   ]
  },
  {
   "cell_type": "code",
   "execution_count": 2,
   "metadata": {},
   "outputs": [],
   "source": [
    "# split a univariate dataset into train/test sets\n",
    "def split_dataset(data):\n",
    "    # split into standard weeks\n",
    "    train, test = data[1:-328], data[-328:-6]\n",
    "    # restructure into windows of weekly data\n",
    "    train = array(split(train, len(train)/7))\n",
    "    test = array(split(test, len(test)/7))\n",
    "    return train, test"
   ]
  },
  {
   "cell_type": "code",
   "execution_count": 3,
   "metadata": {},
   "outputs": [],
   "source": [
    "# evaluate one or more weekly forecasts against expected values\n",
    "def evaluate_forecasts(actual, predicted):\n",
    "    scores = list()\n",
    "    # calculate an RMSE score for each day\n",
    "    for i in range(actual.shape[1]):\n",
    "        # calculate mse\n",
    "        mse = mean_squared_error(actual[:, i], predicted[:, i])\n",
    "        # calculate rmse\n",
    "        rmse = sqrt(mse)\n",
    "        scores.append(rmse)\n",
    "    # calculate overall RMSE\n",
    "    s = 0\n",
    "    for row in range(actual.shape[0]):\n",
    "        for col in range(actual.shape[1]):\n",
    "            s += (actual[row, col] - predicted[row, col])**2\n",
    "    score = sqrt(s / (actual.shape[0] * actual.shape[1]))\n",
    "    return score, scores"
   ]
  },
  {
   "cell_type": "code",
   "execution_count": 4,
   "metadata": {},
   "outputs": [],
   "source": [
    "# summarize scores\n",
    "def summarize_scores(name, score, scores):\n",
    "    s_scores = ', '.join(['%.1f' % s for s in scores])\n",
    "    print('%s: [%.3f] %s' % (name, score, s_scores))\n"
   ]
  },
  {
   "cell_type": "code",
   "execution_count": 5,
   "metadata": {},
   "outputs": [],
   "source": [
    "# convert history into inputs and outputs\n",
    "def to_supervised(train, n_input, n_out=7):\n",
    "    # flatten data\n",
    "    data = train.reshape((train.shape[0]*train.shape[1], train.shape[2]))\n",
    "    X, y = list(), list()\n",
    "    in_start = 0\n",
    "    # step over the entire history one time step at a time\n",
    "    for _ in range(len(data)):\n",
    "        # define the end of the input sequence\n",
    "        in_end = in_start + n_input\n",
    "        out_end = in_end + n_out\n",
    "        # ensure we have enough data for this instance\n",
    "        if out_end < len(data):\n",
    "            x_input = data[in_start:in_end, 0]\n",
    "            x_input = x_input.reshape((len(x_input), 1))\n",
    "            X.append(x_input)\n",
    "            y.append(data[in_end:out_end, 0])\n",
    "        # move along one time step\n",
    "        in_start += 1\n",
    "    return array(X), array(y)\n"
   ]
  },
  {
   "cell_type": "code",
   "execution_count": 6,
   "metadata": {},
   "outputs": [],
   "source": [
    "# train the model\n",
    "def build_and_train_model(train, n_input):\n",
    "    # prepare data\n",
    "    train_x, train_y = to_supervised(train, n_input)\n",
    "    # define parameters\n",
    "    verbose, epochs, batch_size = 1, 20, 16\n",
    "    n_timesteps, n_features, n_outputs = train_x.shape[1], train_x.shape[2], train_y.shape[1]\n",
    "    # reshape output into [samples, timesteps, features]\n",
    "    train_y = train_y.reshape((train_y.shape[0], train_y.shape[1], 1))\n",
    "    # define model\n",
    "    model = Sequential()\n",
    "    model.add(LSTM(200, activation='relu', input_shape=(n_timesteps, n_features)))\n",
    "    model.add(RepeatVector(n_outputs))\n",
    "    model.add(LSTM(200, activation='relu', return_sequences=True))\n",
    "    model.add(TimeDistributed(Dense(100, activation='relu')))\n",
    "    model.add(TimeDistributed(Dense(1)))\n",
    "    model.compile(loss='mse', optimizer='adam')\n",
    "    # fit network\n",
    "    model.fit(train_x, train_y, epochs=epochs, batch_size=batch_size, verbose=verbose)\n",
    "    return model"
   ]
  },
  {
   "cell_type": "code",
   "execution_count": 7,
   "metadata": {},
   "outputs": [],
   "source": [
    "# make a forecast\n",
    "def forecast(model, history, n_input):\n",
    "    # flatten data\n",
    "    data = array(history)\n",
    "    data = data.reshape((data.shape[0]*data.shape[1], data.shape[2]))\n",
    "    # retrieve last observations for input data\n",
    "    input_x = data[-n_input:, 0]\n",
    "    # reshape into [1, n_input, 1]\n",
    "    input_x = input_x.reshape((1, len(input_x), 1))\n",
    "    # forecast the next week\n",
    "    yhat = model.predict(input_x, verbose=0)\n",
    "    # we only want the vector forecast\n",
    "    yhat = yhat[0]\n",
    "    return yhat"
   ]
  },
  {
   "cell_type": "code",
   "execution_count": 8,
   "metadata": {},
   "outputs": [],
   "source": [
    "# evaluate a single model\n",
    "def evaluate_model(train, test, n_input):\n",
    "    # fit model\n",
    "    model = build_and_train_model(train, n_input)\n",
    "    model.save('models/Seq2Seq_UniVariate_Encoder-Decoder_LSTM_Model.h5')\n",
    "\n",
    "    # architecture to JSON, weights to HDF5\n",
    "    model.save_weights('models/Seq2Seq_UniVariate_Encoder-Decoder_LSTM_Model_Weights.h5')\n",
    "    with open('models/Seq2Seq_UniVariate_Encoder-Decoder_LSTM_Model_architecture.json', 'w') as f:\n",
    "            f.write(model.to_json())\n",
    "            \n",
    "    # history is a list of weekly data\n",
    "    history = [x for x in train]\n",
    "    # walk-forward validation over each week\n",
    "    predictions = list()\n",
    "    for i in range(len(test)):\n",
    "        # predict the week\n",
    "        yhat_sequence = forecast(model, history, n_input)\n",
    "        predictions.append(yhat_sequence)\n",
    "        # get real observation and add to history for predicting the next week\n",
    "        history.append(test[i, :])\n",
    "    # evaluate predictions days for each week\n",
    "    predictions = array(predictions)\n",
    "    score, scores = evaluate_forecasts(test[:, :, 0], predictions)\n",
    "    return score, scores"
   ]
  },
  {
   "cell_type": "code",
   "execution_count": 9,
   "metadata": {},
   "outputs": [],
   "source": [
    "def load_pretrained_model(train, test, n_input):\n",
    "    # architecture and weights from HDF5\n",
    "    model = load_model('models/Seq2Seq_UniVariate_Encoder-Decoder_LSTM_Model.h5')\n",
    "\n",
    "    # architecture from JSON, weights from HDF5\n",
    "    with open('models/Seq2Seq_UniVariate_Encoder-Decoder_LSTM_Model_architecture.json') as f:\n",
    "        model = model_from_json(f.read())\n",
    "    model.load_weights('models/Seq2Seq_UniVariate_Encoder-Decoder_LSTM_Model_Weights.h5')\n",
    "    \n",
    "    \n",
    "    # history is a list of weekly data\n",
    "    history = [x for x in train]\n",
    "    # walk-forward validation over each week\n",
    "    predictions = list()\n",
    "    for i in range(len(test)):\n",
    "        # predict the week\n",
    "        yhat_sequence = forecast(model, history, n_input)\n",
    "        # store the predictions\n",
    "        predictions.append(yhat_sequence)\n",
    "        # get real observation and add to history for predicting the next week\n",
    "        history.append(test[i, :])\n",
    "    # evaluate predictions days for each week\n",
    "    predictions = array(predictions)\n",
    "    score, scores = evaluate_forecasts(test[:, :, 0], predictions)\n",
    "    return score, scores\n",
    "    "
   ]
  },
  {
   "cell_type": "code",
   "execution_count": 10,
   "metadata": {},
   "outputs": [
    {
     "name": "stdout",
     "output_type": "stream",
     "text": [
      "Epoch 1/20\n",
      "1092/1092 [==============================] - 9s 9ms/step - loss: 707003.8610\n",
      "Epoch 2/20\n",
      "1092/1092 [==============================] - 6s 6ms/step - loss: 350467.5295: 0s - loss: 350662.14\n",
      "Epoch 3/20\n",
      "1092/1092 [==============================] - 6s 6ms/step - loss: 369164.7161\n",
      "Epoch 4/20\n",
      "1092/1092 [==============================] - 6s 6ms/step - loss: 350759.1988\n",
      "Epoch 5/20\n",
      "1092/1092 [==============================] - 6s 6ms/step - loss: 281483.3462\n",
      "Epoch 6/20\n",
      "1092/1092 [==============================] - 7s 7ms/step - loss: 264707.8528\n",
      "Epoch 7/20\n",
      "1092/1092 [==============================] - 8s 7ms/step - loss: 262677.2557\n",
      "Epoch 8/20\n",
      "1092/1092 [==============================] - 7s 6ms/step - loss: 252760.3981\n",
      "Epoch 9/20\n",
      "1092/1092 [==============================] - 7s 6ms/step - loss: 250089.0591\n",
      "Epoch 10/20\n",
      "1092/1092 [==============================] - 7s 6ms/step - loss: 248605.2392\n",
      "Epoch 11/20\n",
      "1092/1092 [==============================] - 7s 6ms/step - loss: 245657.3715\n",
      "Epoch 12/20\n",
      "1092/1092 [==============================] - 7s 6ms/step - loss: 244260.5664\n",
      "Epoch 13/20\n",
      "1092/1092 [==============================] - 8s 7ms/step - loss: 247607.2214\n",
      "Epoch 14/20\n",
      "1092/1092 [==============================] - 7s 7ms/step - loss: 239224.4286: \n",
      "Epoch 15/20\n",
      "1092/1092 [==============================] - 7s 6ms/step - loss: 243075.6840\n",
      "Epoch 16/20\n",
      "1092/1092 [==============================] - 7s 6ms/step - loss: 242732.3943\n",
      "Epoch 17/20\n",
      "1092/1092 [==============================] - 7s 6ms/step - loss: 237733.5390\n",
      "Epoch 18/20\n",
      "1092/1092 [==============================] - 7s 7ms/step - loss: 236988.4947\n",
      "Epoch 19/20\n",
      "1092/1092 [==============================] - 7s 7ms/step - loss: 236030.1620\n",
      "Epoch 20/20\n",
      "1092/1092 [==============================] - 7s 6ms/step - loss: 245128.3321\n",
      "lstm: [412.052] 431.2, 410.9, 359.6, 426.5, 378.6, 333.7, 517.4\n"
     ]
    },
    {
     "data": {
      "image/png": "[encoded data removed]",
      "text/plain": [
       "<matplotlib.figure.Figure at 0x19e675e9f60>"
      ]
     },
     "metadata": {
      "needs_background": "light"
     },
     "output_type": "display_data"
    }
   ],
   "source": [
    "# load the new file\n",
    "dataset = read_csv('smart meter dataset\\household_power_consumption\\household_power_consumption_Naive_Forecast_days.csv', header=0, infer_datetime_format=True, parse_dates=['datetime'], index_col=['datetime'])\n",
    "# split into train and test\n",
    "train, test = split_dataset(dataset.values)\n",
    "# evaluate model and get scores\n",
    "n_input = 14\n",
    "score, scores = evaluate_model(train, test, n_input)\n",
    "# summarize scores\n",
    "summarize_scores('lstm', score, scores)\n",
    "# plot scores\n",
    "days_label = ['sun', 'mon', 'tue', 'wed', 'thr', 'fri', 'sat']\n",
    "days = [0, 1, 2, 3, 4, 5, 6]\n",
    "pyplot.plot(days, scores, marker='o', label='lstm')\n",
    "pyplot.xlabel(days_label)\n",
    "pyplot.ylabel(\"RMSE Daily Forecast Error\")\n",
    "pyplot.show()"
   ]
  },
  {
   "cell_type": "code",
   "execution_count": 11,
   "metadata": {},
   "outputs": [
    {
     "name": "stdout",
     "output_type": "stream",
     "text": [
      "lstm: [412.052] 431.2, 410.9, 359.6, 426.5, 378.6, 333.7, 517.4\n"
     ]
    },
    {
     "data": {
      "image/png": "[encoded data removed]",
      "text/plain": [
       "<matplotlib.figure.Figure at 0x19e599827b8>"
      ]
     },
     "metadata": {
      "needs_background": "light"
     },
     "output_type": "display_data"
    }
   ],
   "source": [
    "# load pretrained model and get scores\n",
    "n_input = 14\n",
    "score, scores = load_pretrained_model(train, test, n_input)\n",
    "# summarize scores\n",
    "summarize_scores('lstm', score, scores)\n",
    "# plot scores\n",
    "days_label = ['sun', 'mon', 'tue', 'wed', 'thr', 'fri', 'sat']\n",
    "days = [0, 1, 2, 3, 4, 5, 6]\n",
    "pyplot.plot(days, scores, marker='o', label='lstm')\n",
    "pyplot.xlabel(days_label)\n",
    "pyplot.ylabel(\"RMSE Daily Forecast Error\")\n",
    "pyplot.show()"
   ]
  },
  {
   "cell_type": "code",
   "execution_count": null,
   "metadata": {},
   "outputs": [],
   "source": []
  }
 ],
 "metadata": {
  "kernelspec": {
   "display_name": "Python 3",
   "language": "python",
   "name": "python3"
  },
  "language_info": {
   "codemirror_mode": {
    "name": "ipython",
    "version": 3
   },
   "file_extension": ".py",
   "mimetype": "text/x-python",
   "name": "python",
   "nbconvert_exporter": "python",
   "pygments_lexer": "ipython3",
   "version": "3.6.6"
  }
 },
 "nbformat": 4,
 "nbformat_minor": 2
}

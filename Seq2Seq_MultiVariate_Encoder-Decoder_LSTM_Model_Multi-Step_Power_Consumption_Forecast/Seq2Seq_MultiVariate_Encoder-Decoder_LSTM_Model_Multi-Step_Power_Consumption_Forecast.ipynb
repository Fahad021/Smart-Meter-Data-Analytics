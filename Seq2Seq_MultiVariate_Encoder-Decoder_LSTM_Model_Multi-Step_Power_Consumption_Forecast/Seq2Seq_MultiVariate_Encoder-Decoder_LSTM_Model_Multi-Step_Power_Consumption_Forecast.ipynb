{
 "cells": [
  {
   "cell_type": "code",
   "execution_count": 1,
   "metadata": {},
   "outputs": [
    {
     "name": "stderr",
     "output_type": "stream",
     "text": [
      "Using TensorFlow backend.\n"
     ]
    }
   ],
   "source": [
    "# multivariate multi-step encoder-decoder lstm for the power usage dataset\n",
    "from math import sqrt\n",
    "from numpy import split\n",
    "from numpy import array\n",
    "from pandas import read_csv\n",
    "from sklearn.metrics import mean_squared_error\n",
    "from matplotlib import pyplot\n",
    "from keras.models import Sequential\n",
    "from keras.layers import Dense\n",
    "from keras.layers import LSTM\n",
    "from keras.layers import RepeatVector\n",
    "from keras.layers import TimeDistributed\n",
    "\n",
    "from keras import Model, layers\n",
    "from keras.models import load_model, model_from_json\n"
   ]
  },
  {
   "cell_type": "code",
   "execution_count": 2,
   "metadata": {},
   "outputs": [],
   "source": [
    "# split a univariate dataset into train/test sets\n",
    "def split_dataset(data):\n",
    "    # split into standard weeks\n",
    "    train, test = data[1:-328], data[-328:-6]\n",
    "    # restructure into windows of weekly data\n",
    "    train = array(split(train, len(train)/7))\n",
    "    test = array(split(test, len(test)/7))\n",
    "    return train, test"
   ]
  },
  {
   "cell_type": "code",
   "execution_count": 3,
   "metadata": {},
   "outputs": [],
   "source": [
    "# evaluate one or more weekly forecasts against expected values\n",
    "def evaluate_forecasts(actual, predicted):\n",
    "    scores = list()\n",
    "    # calculate an RMSE score for each day\n",
    "    for i in range(actual.shape[1]):\n",
    "        # calculate mse\n",
    "        mse = mean_squared_error(actual[:, i], predicted[:, i])\n",
    "        # calculate rmse\n",
    "        rmse = sqrt(mse)\n",
    "        scores.append(rmse)\n",
    "    # calculate overall RMSE\n",
    "    s = 0\n",
    "    for row in range(actual.shape[0]):\n",
    "        for col in range(actual.shape[1]):\n",
    "            s += (actual[row, col] - predicted[row, col])**2\n",
    "    score = sqrt(s / (actual.shape[0] * actual.shape[1]))\n",
    "    return score, scores"
   ]
  },
  {
   "cell_type": "code",
   "execution_count": 4,
   "metadata": {},
   "outputs": [],
   "source": [
    "# summarize scores\n",
    "def summarize_scores(name, score, scores):\n",
    "    s_scores = ', '.join(['%.1f' % s for s in scores])\n",
    "    print('%s: [%.3f] %s' % (name, score, s_scores))\n"
   ]
  },
  {
   "cell_type": "code",
   "execution_count": 5,
   "metadata": {},
   "outputs": [],
   "source": [
    "# convert history into inputs and outputs\n",
    "def to_supervised(train, n_input, n_out=7):\n",
    "    # flatten data\n",
    "    data = train.reshape((train.shape[0]*train.shape[1], train.shape[2]))\n",
    "    X, y = list(), list()\n",
    "    in_start = 0\n",
    "    # step over the entire history one time step at a time\n",
    "    for _ in range(len(data)):\n",
    "        # define the end of the input sequence\n",
    "        in_end = in_start + n_input\n",
    "        out_end = in_end + n_out\n",
    "        # ensure we have enough data for this instance\n",
    "        if out_end < len(data):\n",
    "            X.append(data[in_start:in_end, :])\n",
    "            y.append(data[in_end:out_end, 0])\n",
    "        # move along one time step\n",
    "        in_start += 1\n",
    "    return array(X), array(y)"
   ]
  },
  {
   "cell_type": "code",
   "execution_count": 6,
   "metadata": {},
   "outputs": [],
   "source": [
    "# train the model\n",
    "def build_and_train_model(train, n_input):\n",
    "    # prepare data\n",
    "    train_x, train_y = to_supervised(train, n_input)\n",
    "    # define parameters\n",
    "    verbose, epochs, batch_size = 1, 50, 16\n",
    "    n_timesteps, n_features, n_outputs = train_x.shape[1], train_x.shape[2], train_y.shape[1]\n",
    "    # reshape output into [samples, timesteps, features]\n",
    "    train_y = train_y.reshape((train_y.shape[0], train_y.shape[1], 1))\n",
    "    # define model\n",
    "    model = Sequential()\n",
    "    model.add(LSTM(200, activation='relu', input_shape=(n_timesteps, n_features)))\n",
    "    model.add(RepeatVector(n_outputs))\n",
    "    model.add(LSTM(200, activation='relu', return_sequences=True))\n",
    "    model.add(TimeDistributed(Dense(100, activation='relu')))\n",
    "    model.add(TimeDistributed(Dense(1)))\n",
    "    model.compile(loss='mse', optimizer='adam')\n",
    "    # fit network\n",
    "    model.fit(train_x, train_y, epochs=epochs, batch_size=batch_size, verbose=verbose)\n",
    "    return model\n"
   ]
  },
  {
   "cell_type": "code",
   "execution_count": 7,
   "metadata": {},
   "outputs": [],
   "source": [
    "# make a forecast\n",
    "def forecast(model, history, n_input):\n",
    "    # flatten data\n",
    "    data = array(history)\n",
    "    data = data.reshape((data.shape[0]*data.shape[1], data.shape[2]))\n",
    "    # retrieve last observations for input data\n",
    "    input_x = data[-n_input:, :]\n",
    "    # reshape into [1, n_input, n]\n",
    "    input_x = input_x.reshape((1, input_x.shape[0], input_x.shape[1]))\n",
    "    # forecast the next week\n",
    "    yhat = model.predict(input_x, verbose=0)\n",
    "    # we only want the vector forecast\n",
    "    yhat = yhat[0]\n",
    "    return yhat"
   ]
  },
  {
   "cell_type": "code",
   "execution_count": 8,
   "metadata": {},
   "outputs": [],
   "source": [
    "# evaluate a single model\n",
    "def evaluate_model(train, test, n_input):\n",
    "    # fit model\n",
    "    model = build_and_train_model(train, n_input)\n",
    "    model.save('models/Seq2Seq_MultiVariate_Encoder-Decoder_LSTM_Model.h5')\n",
    "\n",
    "    # architecture to JSON, weights to HDF5\n",
    "    model.save_weights('models/Seq2Seq_MultiVariate_Encoder-Decoder_LSTM_Model_Weights.h5')\n",
    "    with open('models/Seq2Seq_MultiVariate_Encoder-Decoder_LSTM_Model_architecture.json', 'w') as f:\n",
    "            f.write(model.to_json())\n",
    "    # history is a list of weekly data\n",
    "    history = [x for x in train]\n",
    "    # walk-forward validation over each week\n",
    "    predictions = list()\n",
    "    for i in range(len(test)):\n",
    "        # predict the week\n",
    "        yhat_sequence = forecast(model, history, n_input)\n",
    "        # store the predictions\n",
    "        predictions.append(yhat_sequence)\n",
    "        # get real observation and add to history for predicting the next week\n",
    "        history.append(test[i, :])\n",
    "    # evaluate predictions days for each week\n",
    "    predictions = array(predictions)\n",
    "    score, scores = evaluate_forecasts(test[:, :, 0], predictions)\n",
    "    return score, scores"
   ]
  },
  {
   "cell_type": "code",
   "execution_count": 9,
   "metadata": {},
   "outputs": [],
   "source": [
    "def load_pretrained_model(train, test, n_input):\n",
    "    # architecture and weights from HDF5\n",
    "    model = load_model('models/Seq2Seq_MultiVariate_Encoder-Decoder_LSTM_Model.h5')\n",
    "\n",
    "    # architecture from JSON, weights from HDF5\n",
    "    with open('models/Seq2Seq_MultiVariate_Encoder-Decoder_LSTM_Model_architecture.json') as f:\n",
    "        model = model_from_json(f.read())\n",
    "    model.load_weights('models/Seq2Seq_MultiVariate_Encoder-Decoder_LSTM_Model_Weights.h5')\n",
    "    \n",
    "    \n",
    "    # history is a list of weekly data\n",
    "    history = [x for x in train]\n",
    "    # walk-forward validation over each week\n",
    "    predictions = list()\n",
    "    for i in range(len(test)):\n",
    "        # predict the week\n",
    "        yhat_sequence = forecast(model, history, n_input)\n",
    "        # store the predictions\n",
    "        predictions.append(yhat_sequence)\n",
    "        # get real observation and add to history for predicting the next week\n",
    "        history.append(test[i, :])\n",
    "    # evaluate predictions days for each week\n",
    "    predictions = array(predictions)\n",
    "    score, scores = evaluate_forecasts(test[:, :, 0], predictions)\n",
    "    return score, scores\n",
    "    "
   ]
  },
  {
   "cell_type": "code",
   "execution_count": 10,
   "metadata": {},
   "outputs": [
    {
     "name": "stdout",
     "output_type": "stream",
     "text": [
      "Epoch 1/50\n",
      "1092/1092 [==============================] - 10s 9ms/step - loss: 248854311.3553\n",
      "Epoch 2/50\n",
      "1092/1092 [==============================] - 7s 6ms/step - loss: 42318291.0220\n",
      "Epoch 3/50\n",
      "1092/1092 [==============================] - 6s 6ms/step - loss: 5923325.4206\n",
      "Epoch 4/50\n",
      "1092/1092 [==============================] - 6s 6ms/step - loss: 375290.5382\n",
      "Epoch 5/50\n",
      "1092/1092 [==============================] - 6s 6ms/step - loss: 909453.2750\n",
      "Epoch 6/50\n",
      "1092/1092 [==============================] - 7s 6ms/step - loss: 2440375.6685\n",
      "Epoch 7/50\n",
      "1092/1092 [==============================] - 7s 6ms/step - loss: 3245731.7644\n",
      "Epoch 8/50\n",
      "1092/1092 [==============================] - 6s 6ms/step - loss: 678759.5206\n",
      "Epoch 9/50\n",
      "1092/1092 [==============================] - 7s 6ms/step - loss: 334112.9381\n",
      "Epoch 10/50\n",
      "1092/1092 [==============================] - 7s 7ms/step - loss: 390204.5929\n",
      "Epoch 11/50\n",
      "1092/1092 [==============================] - 7s 6ms/step - loss: 354600.9309\n",
      "Epoch 12/50\n",
      "1092/1092 [==============================] - 6s 6ms/step - loss: 338563.6912\n",
      "Epoch 13/50\n",
      "1092/1092 [==============================] - 6s 6ms/step - loss: 338908.0054: 0s - l\n",
      "Epoch 14/50\n",
      "1092/1092 [==============================] - 6s 6ms/step - loss: 322329.5678\n",
      "Epoch 15/50\n",
      "1092/1092 [==============================] - 6s 6ms/step - loss: 326972.2914\n",
      "Epoch 16/50\n",
      "1092/1092 [==============================] - 6s 6ms/step - loss: 347260.1334\n",
      "Epoch 17/50\n",
      "1092/1092 [==============================] - 6s 6ms/step - loss: 307491.0348\n",
      "Epoch 18/50\n",
      "1092/1092 [==============================] - 6s 6ms/step - loss: 329661.3796\n",
      "Epoch 19/50\n",
      "1092/1092 [==============================] - 6s 6ms/step - loss: 332185.3606: 0s - loss:\n",
      "Epoch 20/50\n",
      "1092/1092 [==============================] - 7s 6ms/step - loss: 304596.5000\n",
      "Epoch 21/50\n",
      "1092/1092 [==============================] - 7s 6ms/step - loss: 297738.0739\n",
      "Epoch 22/50\n",
      "1092/1092 [==============================] - 7s 7ms/step - loss: 285723.0213\n",
      "Epoch 23/50\n",
      "1092/1092 [==============================] - 6s 6ms/step - loss: 298245.4707\n",
      "Epoch 24/50\n",
      "1092/1092 [==============================] - 6s 6ms/step - loss: 288637.5721\n",
      "Epoch 25/50\n",
      "1092/1092 [==============================] - 6s 6ms/step - loss: 310268.0989: 0s - loss: 310384.\n",
      "Epoch 26/50\n",
      "1092/1092 [==============================] - ETA: 0s - loss: 290205.54 - 6s 6ms/step - loss: 290984.9653\n",
      "Epoch 27/50\n",
      "1092/1092 [==============================] - 6s 6ms/step - loss: 289592.3601\n",
      "Epoch 28/50\n",
      "1092/1092 [==============================] - 7s 6ms/step - loss: 273762.6743\n",
      "Epoch 29/50\n",
      "1092/1092 [==============================] - 6s 6ms/step - loss: 305567.1679\n",
      "Epoch 30/50\n",
      "1092/1092 [==============================] - 7s 7ms/step - loss: 287088.4507\n",
      "Epoch 31/50\n",
      "1092/1092 [==============================] - 7s 6ms/step - loss: 289860.0401\n",
      "Epoch 32/50\n",
      "1092/1092 [==============================] - 7s 6ms/step - loss: 266005.4623\n",
      "Epoch 33/50\n",
      "1092/1092 [==============================] - 6s 6ms/step - loss: 265680.3535\n",
      "Epoch 34/50\n",
      "1092/1092 [==============================] - 7s 6ms/step - loss: 271299.8904\n",
      "Epoch 35/50\n",
      "1092/1092 [==============================] - 6s 6ms/step - loss: 273267.4018\n",
      "Epoch 36/50\n",
      "1092/1092 [==============================] - 6s 6ms/step - loss: 270777.7527\n",
      "Epoch 37/50\n",
      "1092/1092 [==============================] - 6s 6ms/step - loss: 263271.3154\n",
      "Epoch 38/50\n",
      "1092/1092 [==============================] - 7s 6ms/step - loss: 263989.0498\n",
      "Epoch 39/50\n",
      "1092/1092 [==============================] - 7s 7ms/step - loss: 263016.5001\n",
      "Epoch 40/50\n",
      "1092/1092 [==============================] - 7s 6ms/step - loss: 270260.6716\n",
      "Epoch 41/50\n",
      "1092/1092 [==============================] - 7s 6ms/step - loss: 275020.1461\n",
      "Epoch 42/50\n",
      "1092/1092 [==============================] - 7s 6ms/step - loss: 265586.1881\n",
      "Epoch 43/50\n",
      "1092/1092 [==============================] - 6s 6ms/step - loss: 281013.2947\n",
      "Epoch 44/50\n",
      "1092/1092 [==============================] - 6s 6ms/step - loss: 279491.2175\n",
      "Epoch 45/50\n",
      "1092/1092 [==============================] - 6s 6ms/step - loss: 266341.6860\n",
      "Epoch 46/50\n",
      "1092/1092 [==============================] - 6s 6ms/step - loss: 259494.7009\n",
      "Epoch 47/50\n",
      "1092/1092 [==============================] - 7s 6ms/step - loss: 267769.8391\n",
      "Epoch 48/50\n",
      "1092/1092 [==============================] - 7s 6ms/step - loss: 277959.2194\n",
      "Epoch 49/50\n",
      "1092/1092 [==============================] - 7s 6ms/step - loss: 316701.8045\n",
      "Epoch 50/50\n",
      "1092/1092 [==============================] - 6s 6ms/step - loss: 258882.1664\n",
      "lstm: [388.092] 389.1, 391.0, 350.1, 392.1, 379.9, 360.6, 446.5\n"
     ]
    },
    {
     "data": {
      "image/png": "[encoded data removed]",
      "text/plain": [
       "<matplotlib.figure.Figure at 0x1fa26c60828>"
      ]
     },
     "metadata": {
      "needs_background": "light"
     },
     "output_type": "display_data"
    }
   ],
   "source": [
    "# load the new file\n",
    "dataset = read_csv('smart meter dataset\\household_power_consumption\\household_power_consumption_Naive_Forecast_days.csv', header=0, infer_datetime_format=True, parse_dates=['datetime'], index_col=['datetime'])\n",
    "# split into train and test\n",
    "train, test = split_dataset(dataset.values)\n",
    "# evaluate model and get scores\n",
    "n_input = 14\n",
    "score, scores = evaluate_model(train, test, n_input)\n",
    "# summarize scores\n",
    "summarize_scores('lstm', score, scores)\n",
    "# plot scores\n",
    "days_label = ['sun', 'mon', 'tue', 'wed', 'thr', 'fri', 'sat']\n",
    "days = [0, 1, 2, 3, 4, 5, 6]\n",
    "pyplot.plot(days, scores, marker='o', label='lstm')\n",
    "pyplot.xlabel(days_label)\n",
    "pyplot.ylabel(\"RMSE Daily Forecast Error\")\n",
    "pyplot.show()"
   ]
  },
  {
   "cell_type": "code",
   "execution_count": 11,
   "metadata": {},
   "outputs": [
    {
     "name": "stdout",
     "output_type": "stream",
     "text": [
      "lstm: [388.092] 389.1, 391.0, 350.1, 392.1, 379.9, 360.6, 446.5\n"
     ]
    },
    {
     "data": {
      "image/png": "[encoded data removed]",
      "text/plain": [
       "<matplotlib.figure.Figure at 0x1fa26bced68>"
      ]
     },
     "metadata": {
      "needs_background": "light"
     },
     "output_type": "display_data"
    }
   ],
   "source": [
    "# load pretrained model and get scores\n",
    "n_input = 14\n",
    "score, scores = load_pretrained_model(train, test, n_input)\n",
    "# summarize scores\n",
    "summarize_scores('lstm', score, scores)\n",
    "# plot scores\n",
    "days_label = ['sun', 'mon', 'tue', 'wed', 'thr', 'fri', 'sat']\n",
    "days = [0, 1, 2, 3, 4, 5, 6]\n",
    "pyplot.plot(days, scores, marker='o', label='lstm')\n",
    "pyplot.xlabel(days_label)\n",
    "pyplot.ylabel(\"RMSE Daily Forecast Error\")\n",
    "pyplot.show()"
   ]
  },
  {
   "cell_type": "code",
   "execution_count": null,
   "metadata": {},
   "outputs": [],
   "source": []
  }
 ],
 "metadata": {
  "kernelspec": {
   "display_name": "Python 3",
   "language": "python",
   "name": "python3"
  },
  "language_info": {
   "codemirror_mode": {
    "name": "ipython",
    "version": 3
   },
   "file_extension": ".py",
   "mimetype": "text/x-python",
   "name": "python",
   "nbconvert_exporter": "python",
   "pygments_lexer": "ipython3",
   "version": "3.6.6"
  }
 },
 "nbformat": 4,
 "nbformat_minor": 2
}

{
 "cells": [
  {
   "cell_type": "code",
   "execution_count": 8,
   "metadata": {},
   "outputs": [],
   "source": [
    "# univariate multi-step cnn for the power usage dataset\n",
    "from math import sqrt\n",
    "from numpy import split\n",
    "from numpy import array\n",
    "from pandas import read_csv\n",
    "from sklearn.metrics import mean_squared_error\n",
    "from matplotlib import pyplot\n",
    "from keras.models import Sequential\n",
    "from keras.layers import Dense\n",
    "from keras.layers import Flatten\n",
    "from keras.layers.convolutional import Conv1D\n",
    "from keras.layers.convolutional import MaxPooling1D\n",
    "\n",
    "from keras import Model, layers\n",
    "from keras.models import load_model, model_from_json"
   ]
  },
  {
   "cell_type": "code",
   "execution_count": 9,
   "metadata": {},
   "outputs": [],
   "source": [
    "# split a univariate dataset into train/test sets\n",
    "def split_dataset(data):\n",
    "    # split into standard weeks\n",
    "    train, test = data[1:-328], data[-328:-6]\n",
    "    # restructure into windows of weekly data\n",
    "    train = array(split(train, len(train)/7))\n",
    "    test = array(split(test, len(test)/7))\n",
    "    return train, test\n"
   ]
  },
  {
   "cell_type": "code",
   "execution_count": 10,
   "metadata": {},
   "outputs": [],
   "source": [
    "# evaluate one or more weekly forecasts against expected values\n",
    "def evaluate_forecasts(actual, predicted):\n",
    "    scores = list()\n",
    "    # calculate an RMSE score for each day\n",
    "    for i in range(actual.shape[1]):\n",
    "        # calculate mse\n",
    "        mse = mean_squared_error(actual[:, i], predicted[:, i])\n",
    "        # calculate rmse\n",
    "        rmse = sqrt(mse)\n",
    "        scores.append(rmse)\n",
    "    # calculate overall RMSE\n",
    "    s = 0\n",
    "    for row in range(actual.shape[0]):\n",
    "        for col in range(actual.shape[1]):\n",
    "            s += (actual[row, col] - predicted[row, col])**2\n",
    "    score = sqrt(s / (actual.shape[0] * actual.shape[1]))\n",
    "    return score, scores"
   ]
  },
  {
   "cell_type": "code",
   "execution_count": 11,
   "metadata": {},
   "outputs": [],
   "source": [
    "# summarize scores\n",
    "def summarize_scores(name, score, scores):\n",
    "    s_scores = ', '.join(['%.1f' % s for s in scores])\n",
    "    print('%s: [%.3f] %s' % (name, score, s_scores))"
   ]
  },
  {
   "cell_type": "code",
   "execution_count": 12,
   "metadata": {},
   "outputs": [],
   "source": [
    "# convert history into inputs and outputs\n",
    "def to_supervised(train, n_input, n_out=7):\n",
    "    # flatten data\n",
    "    data = train.reshape((train.shape[0]*train.shape[1], train.shape[2]))\n",
    "    X, y = list(), list()\n",
    "    in_start = 0\n",
    "    # step over the entire history one time step at a time\n",
    "    for _ in range(len(data)):\n",
    "        # define the end of the input sequence\n",
    "        in_end = in_start + n_input\n",
    "        out_end = in_end + n_out\n",
    "        # ensure we have enough data for this instance\n",
    "        if out_end < len(data):\n",
    "            x_input = data[in_start:in_end, 0]\n",
    "            x_input = x_input.reshape((len(x_input), 1))\n",
    "            X.append(x_input)\n",
    "            y.append(data[in_end:out_end, 0])\n",
    "        # move along one time step\n",
    "        in_start += 1\n",
    "    return array(X), array(y)"
   ]
  },
  {
   "cell_type": "code",
   "execution_count": 13,
   "metadata": {},
   "outputs": [],
   "source": [
    "# train the model\n",
    "def build_and_train_model(train, n_input):\n",
    "    # prepare data\n",
    "    train_x, train_y = to_supervised(train, n_input)\n",
    "    # define parameters\n",
    "    verbose, epochs, batch_size = 1, 20, 4\n",
    "    n_timesteps, n_features, n_outputs = train_x.shape[1], train_x.shape[2], train_y.shape[1]\n",
    "    # define model\n",
    "    model = Sequential()\n",
    "    model.add(Conv1D(filters=16, kernel_size=3, activation='relu', input_shape=(n_timesteps,n_features)))\n",
    "    model.add(MaxPooling1D(pool_size=2))\n",
    "    model.add(Flatten())\n",
    "    model.add(Dense(10, activation='relu'))\n",
    "    model.add(Dense(n_outputs))\n",
    "    model.compile(loss='mse', optimizer='adam')\n",
    "    # fit network\n",
    "    model.fit(train_x, train_y, epochs=epochs, batch_size=batch_size, verbose=verbose)\n",
    "    return model"
   ]
  },
  {
   "cell_type": "code",
   "execution_count": 14,
   "metadata": {},
   "outputs": [],
   "source": [
    "# make a forecast\n",
    "def forecast(model, history, n_input):\n",
    "    # flatten data\n",
    "    data = array(history)\n",
    "    data = data.reshape((data.shape[0]*data.shape[1], data.shape[2]))\n",
    "    # retrieve last observations for input data\n",
    "    input_x = data[-n_input:, 0]\n",
    "    # reshape into [1, n_input, 1]\n",
    "    input_x = input_x.reshape((1, len(input_x), 1))\n",
    "    # forecast the next week\n",
    "    yhat = model.predict(input_x, verbose=0)\n",
    "    # we only want the vector forecast\n",
    "    yhat = yhat[0]\n",
    "    return yhat"
   ]
  },
  {
   "cell_type": "code",
   "execution_count": 20,
   "metadata": {},
   "outputs": [],
   "source": [
    "# evaluate a single model\n",
    "def evaluate_model(train, test, n_input):\n",
    "    # fit model\n",
    "    model = build_and_train_model(train, n_input)\n",
    "    model.save('models/ConvNet_Univariate_Input_Model_14daysInput.h5')\n",
    "\n",
    "    # architecture to JSON, weights to HDF5\n",
    "    model.save_weights('models/ConvNet_Univariate_Input_Model_Weights_14daysInput.h5')\n",
    "    with open('models/ConvNet_Univariate_Input_Model_architecture_14daysInput.json', 'w') as f:\n",
    "            f.write(model.to_json())\n",
    "    # history is a list of weekly data\n",
    "    history = [x for x in train]\n",
    "    # walk-forward validation over each week\n",
    "    predictions = list()\n",
    "    for i in range(len(test)):\n",
    "        # predict the week\n",
    "        yhat_sequence = forecast(model, history, n_input)\n",
    "        # store the predictions\n",
    "        predictions.append(yhat_sequence)\n",
    "        # get real observation and add to history for predicting the next week\n",
    "        history.append(test[i, :])\n",
    "    # evaluate predictions days for each week\n",
    "    predictions = array(predictions)\n",
    "    score, scores = evaluate_forecasts(test[:, :, 0], predictions)\n",
    "    return score, scores"
   ]
  },
  {
   "cell_type": "code",
   "execution_count": 21,
   "metadata": {},
   "outputs": [],
   "source": [
    "def load_pretrained_model(train, test, n_input):\n",
    "    # architecture and weights from HDF5\n",
    "    model = load_model('models/ConvNet_Univariate_Input_Model_14daysInput.h5')\n",
    "\n",
    "    # architecture from JSON, weights from HDF5\n",
    "    with open('models/ConvNet_Univariate_Input_Model_architecture_14daysInput.json') as f:\n",
    "        model = model_from_json(f.read())\n",
    "    model.load_weights('models/ConvNet_Univariate_Input_Model_Weights_14daysInput.h5')\n",
    "    \n",
    "    \n",
    "    # history is a list of weekly data\n",
    "    history = [x for x in train]\n",
    "    # walk-forward validation over each week\n",
    "    predictions = list()\n",
    "    for i in range(len(test)):\n",
    "        # predict the week\n",
    "        yhat_sequence = forecast(model, history, n_input)\n",
    "        # store the predictions\n",
    "        predictions.append(yhat_sequence)\n",
    "        # get real observation and add to history for predicting the next week\n",
    "        history.append(test[i, :])\n",
    "    # evaluate predictions days for each week\n",
    "    predictions = array(predictions)\n",
    "    score, scores = evaluate_forecasts(test[:, :, 0], predictions)\n",
    "    return score, scores"
   ]
  },
  {
   "cell_type": "code",
   "execution_count": 17,
   "metadata": {},
   "outputs": [
    {
     "name": "stdout",
     "output_type": "stream",
     "text": [
      "Epoch 1/20\n",
      "1099/1099 [==============================] - 1s 543us/step - loss: 815145.5301\n",
      "Epoch 2/20\n",
      "1099/1099 [==============================] - 0s 277us/step - loss: 285275.9948\n",
      "Epoch 3/20\n",
      "1099/1099 [==============================] - 0s 305us/step - loss: 281221.7141\n",
      "Epoch 4/20\n",
      "1099/1099 [==============================] - 0s 346us/step - loss: 279808.0246\n",
      "Epoch 5/20\n",
      "1099/1099 [==============================] - 0s 317us/step - loss: 275529.0319\n",
      "Epoch 6/20\n",
      "1099/1099 [==============================] - 0s 317us/step - loss: 274490.7838\n",
      "Epoch 7/20\n",
      "1099/1099 [==============================] - 0s 351us/step - loss: 273366.9458\n",
      "Epoch 8/20\n",
      "1099/1099 [==============================] - 0s 332us/step - loss: 271466.6756\n",
      "Epoch 9/20\n",
      "1099/1099 [==============================] - 0s 323us/step - loss: 271355.5735\n",
      "Epoch 10/20\n",
      "1099/1099 [==============================] - 0s 309us/step - loss: 270510.2988\n",
      "Epoch 11/20\n",
      "1099/1099 [==============================] - 1s 558us/step - loss: 269417.3281\n",
      "Epoch 12/20\n",
      "1099/1099 [==============================] - 2s 2ms/step - loss: 269975.5788\n",
      "Epoch 13/20\n",
      "1099/1099 [==============================] - 1s 893us/step - loss: 267884.4897\n",
      "Epoch 14/20\n",
      "1099/1099 [==============================] - 0s 288us/step - loss: 268677.7106\n",
      "Epoch 15/20\n",
      "1099/1099 [==============================] - 0s 310us/step - loss: 268316.1749\n",
      "Epoch 16/20\n",
      "1099/1099 [==============================] - 0s 361us/step - loss: 267616.0357\n",
      "Epoch 17/20\n",
      "1099/1099 [==============================] - 0s 371us/step - loss: 267072.3617\n",
      "Epoch 18/20\n",
      "1099/1099 [==============================] - 0s 334us/step - loss: 266619.2037\n",
      "Epoch 19/20\n",
      "1099/1099 [==============================] - 0s 337us/step - loss: 266793.7787\n",
      "Epoch 20/20\n",
      "1099/1099 [==============================] - 0s 320us/step - loss: 267804.4048\n",
      "cnn: [402.287] 418.2, 416.7, 349.1, 391.5, 411.6, 326.8, 482.6\n"
     ]
    },
    {
     "data": {
      "image/png": "[encoded data removed]",
      "text/plain": [
       "<matplotlib.figure.Figure at 0x27af4b027b8>"
      ]
     },
     "metadata": {
      "needs_background": "light"
     },
     "output_type": "display_data"
    }
   ],
   "source": [
    "\n",
    "dataset = read_csv('smart meter dataset\\household_power_consumption\\household_power_consumption_Naive_Forecast_days.csv', header=0, infer_datetime_format=True, parse_dates=['datetime'], index_col=['datetime'])\n",
    "# split into train and test\n",
    "train, test = split_dataset(dataset.values)\n",
    "# evaluate model and get scores\n",
    "n_input = 7\n",
    "score, scores = evaluate_model(train, test, n_input)\n",
    "# summarize scores\n",
    "summarize_scores('cnn', score, scores)\n",
    "# plot scores\n",
    "days_label = ['sun', 'mon', 'tue', 'wed', 'thr', 'fri', 'sat']\n",
    "days = [0, 1, 2, 3, 4, 5, 6]\n",
    "pyplot.plot(days, scores, marker='o', label='cnn')\n",
    "pyplot.xlabel(days_label)\n",
    "pyplot.ylabel(\"RMSE Daily Forecast Error\")\n",
    "pyplot.show()"
   ]
  },
  {
   "cell_type": "code",
   "execution_count": 18,
   "metadata": {},
   "outputs": [
    {
     "name": "stdout",
     "output_type": "stream",
     "text": [
      "cnn: [402.287] 418.2, 416.7, 349.1, 391.5, 411.6, 326.8, 482.6\n"
     ]
    },
    {
     "data": {
      "image/png": "[encoded data removed]",
      "text/plain": [
       "<matplotlib.figure.Figure at 0x27af5cb2e80>"
      ]
     },
     "metadata": {
      "needs_background": "light"
     },
     "output_type": "display_data"
    }
   ],
   "source": [
    "# load pretrained model and get scores\n",
    "n_input = 7\n",
    "score, scores = load_pretrained_model(train, test, n_input)\n",
    "# summarize scores\n",
    "summarize_scores('cnn', score, scores)\n",
    "# plot scores\n",
    "days_label = ['sun', 'mon', 'tue', 'wed', 'thr', 'fri', 'sat']\n",
    "days = [0, 1, 2, 3, 4, 5, 6]\n",
    "pyplot.plot(days, scores, marker='o', label='cnn')\n",
    "pyplot.xlabel(days_label)\n",
    "pyplot.ylabel(\"RMSE Daily Forecast Error\")\n",
    "pyplot.show()"
   ]
  },
  {
   "cell_type": "code",
   "execution_count": 22,
   "metadata": {},
   "outputs": [
    {
     "name": "stdout",
     "output_type": "stream",
     "text": [
      "Epoch 1/20\n",
      "1092/1092 [==============================] - 1s 646us/step - loss: 1066651.7959\n",
      "Epoch 2/20\n",
      "1092/1092 [==============================] - 0s 330us/step - loss: 268975.3263\n",
      "Epoch 3/20\n",
      "1092/1092 [==============================] - 0s 334us/step - loss: 261100.4654\n",
      "Epoch 4/20\n",
      "1092/1092 [==============================] - 0s 339us/step - loss: 256205.7059\n",
      "Epoch 5/20\n",
      "1092/1092 [==============================] - 0s 331us/step - loss: 252035.5132\n",
      "Epoch 6/20\n",
      "1092/1092 [==============================] - 0s 345us/step - loss: 248203.1623\n",
      "Epoch 7/20\n",
      "1092/1092 [==============================] - 0s 357us/step - loss: 248079.8328\n",
      "Epoch 8/20\n",
      "1092/1092 [==============================] - 0s 417us/step - loss: 245099.5319\n",
      "Epoch 9/20\n",
      "1092/1092 [==============================] - 1s 467us/step - loss: 244859.9631\n",
      "Epoch 10/20\n",
      "1092/1092 [==============================] - 2s 1ms/step - loss: 246030.2466\n",
      "Epoch 11/20\n",
      "1092/1092 [==============================] - 2s 2ms/step - loss: 240470.3899\n",
      "Epoch 12/20\n",
      "1092/1092 [==============================] - 0s 303us/step - loss: 241134.8965\n",
      "Epoch 13/20\n",
      "1092/1092 [==============================] - 0s 340us/step - loss: 239560.6675\n",
      "Epoch 14/20\n",
      "1092/1092 [==============================] - 0s 352us/step - loss: 240047.0561\n",
      "Epoch 15/20\n",
      "1092/1092 [==============================] - 0s 372us/step - loss: 241345.2590\n",
      "Epoch 16/20\n",
      "1092/1092 [==============================] - 0s 361us/step - loss: 237263.1311\n",
      "Epoch 17/20\n",
      "1092/1092 [==============================] - 0s 452us/step - loss: 238803.8482\n",
      "Epoch 18/20\n",
      "1092/1092 [==============================] - 1s 468us/step - loss: 239006.7078\n",
      "Epoch 19/20\n",
      "1092/1092 [==============================] - 2s 2ms/step - loss: 237829.0073\n",
      "Epoch 20/20\n",
      "1092/1092 [==============================] - 1s 1ms/step - loss: 236528.7603\n",
      "cnn: [388.937] 411.6, 385.3, 356.3, 365.1, 372.8, 333.2, 480.4\n"
     ]
    },
    {
     "data": {
      "image/png": "[encoded data removed]",
      "text/plain": [
       "<matplotlib.figure.Figure at 0x27af7b9bb70>"
      ]
     },
     "metadata": {
      "needs_background": "light"
     },
     "output_type": "display_data"
    }
   ],
   "source": [
    "# evaluate model and get scores\n",
    "n_input = 14\n",
    "score, scores = evaluate_model(train, test, n_input)\n",
    "# summarize scores\n",
    "summarize_scores('cnn', score, scores)\n",
    "# plot scores\n",
    "days_label = ['sun', 'mon', 'tue', 'wed', 'thr', 'fri', 'sat']\n",
    "days = [0, 1, 2, 3, 4, 5, 6]\n",
    "pyplot.plot(days, scores, marker='o', label='cnn')\n",
    "pyplot.xlabel(days_label)\n",
    "pyplot.ylabel(\"RMSE Daily Forecast Error\")\n",
    "pyplot.show()"
   ]
  },
  {
   "cell_type": "code",
   "execution_count": 23,
   "metadata": {},
   "outputs": [
    {
     "name": "stdout",
     "output_type": "stream",
     "text": [
      "cnn: [388.937] 411.6, 385.3, 356.3, 365.1, 372.8, 333.2, 480.4\n"
     ]
    },
    {
     "data": {
      "image/png": "[encoded data removed]",
      "text/plain": [
       "<matplotlib.figure.Figure at 0x27af7be7cf8>"
      ]
     },
     "metadata": {
      "needs_background": "light"
     },
     "output_type": "display_data"
    }
   ],
   "source": [
    "# load pretrained model and get scores\n",
    "n_input = 14\n",
    "score, scores = load_pretrained_model(train, test, n_input)\n",
    "# summarize scores\n",
    "summarize_scores('cnn', score, scores)\n",
    "# plot scores\n",
    "days_label = ['sun', 'mon', 'tue', 'wed', 'thr', 'fri', 'sat']\n",
    "days = [0, 1, 2, 3, 4, 5, 6]\n",
    "pyplot.plot(days, scores, marker='o', label='cnn')\n",
    "pyplot.xlabel(days_label)\n",
    "pyplot.ylabel(\"RMSE Daily Forecast Error\")\n",
    "pyplot.show()"
   ]
  },
  {
   "cell_type": "code",
   "execution_count": null,
   "metadata": {},
   "outputs": [],
   "source": []
  }
 ],
 "metadata": {
  "kernelspec": {
   "display_name": "Python 3",
   "language": "python",
   "name": "python3"
  },
  "language_info": {
   "codemirror_mode": {
    "name": "ipython",
    "version": 3
   },
   "file_extension": ".py",
   "mimetype": "text/x-python",
   "name": "python",
   "nbconvert_exporter": "python",
   "pygments_lexer": "ipython3",
   "version": "3.6.6"
  }
 },
 "nbformat": 4,
 "nbformat_minor": 2
}
